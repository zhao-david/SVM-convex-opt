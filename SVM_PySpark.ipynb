{
 "cells": [
  {
   "cell_type": "markdown",
   "metadata": {},
   "source": [
    "# Fun with Support Vector Machines!"
   ]
  },
  {
   "cell_type": "markdown",
   "metadata": {},
   "source": [
    "This tutorial steps through how to parallelize the SVM algorithm, to make it faster. It is organized as follows:\n",
    "\n",
    "__Part 0:__ generate linearly separable, 2-class data\n",
    "\n",
    "__Part 1:__ implement SVM using cvxopt, a QP solver package, to illustrate basic problem setup\n",
    "\n",
    "__Part 2:__ implement primal-dual interior point method, a QP solver, by hand and use it to implement SVM\n",
    "\n",
    "__Part 3:__ use low-rank approximations of size $n \\times n$ matrix to speed up Part 2 implementation\n",
    "\n",
    "__Part 4:__ use parallel computation, via PySpark, to further speed up Part 3 implementation\n",
    "\n",
    "__Part 5:__ run experiments comparing the speeds of implementations from Parts 1-4\n",
    "\n",
    "I based this project off a 2007 NIPS paper entitled \"Parallelizing Support Vector Machines on Distributed Computers\", by Zhu et al: https://papers.nips.cc/paper/3202-parallelizing-support-vector-machines-on-distributed-computers\n",
    "\n",
    "Their (much faster) implementation, written in C, can be found here: https://code.google.com/archive/p/psvm/source/default/source?page=1\n",
    "\n",
    "For Part 2, this textbook was a useful reference: http://web.stanford.edu/~boyd/cvxbook/. I am also grateful to Nic Dalmasso and Ben Leroy, who helped me understand PDIPM and debug my implementation.\n",
    "\n",
    "My goal for this project was to learn more about an interesting problem, and to share what I've learned in a tutorial that others may find useful."
   ]
  },
  {
   "cell_type": "code",
   "execution_count": 57,
   "metadata": {},
   "outputs": [],
   "source": [
    "import sys\n",
    "import numpy as np\n",
    "import pandas as pd\n",
    "import ipdb\n",
    "import matplotlib.pyplot as plt\n",
    "import pickle\n",
    "from cvxopt import matrix, solvers"
   ]
  },
  {
   "cell_type": "markdown",
   "metadata": {},
   "source": [
    "# 0) generate data"
   ]
  },
  {
   "cell_type": "markdown",
   "metadata": {},
   "source": [
    "Here we generate a small number of 2-dim data points from two linearly separable classes, so that we can easily visualize the solution. (n=100, p=2)\n",
    "\n",
    "In practice, n and p can both be much larger, and there are various ways to extend SVM to multiclass classification.\n",
    "\n",
    "The specific generating distribution doesn't really matter; I chose the multivariate normal distribution for simplicity."
   ]
  },
  {
   "cell_type": "code",
   "execution_count": 2,
   "metadata": {},
   "outputs": [],
   "source": [
    "def generate_data(n=50, d=2, sigma1=0.3, sigma2=0.2, toPickle=True,\n",
    "                 filename='gaussiandata.pickle'):\n",
    "    mu1 = np.ones((d,))\n",
    "    mu2 = 3 * np.ones((d,))\n",
    "    Sigma1 = np.diag(sigma1 * np.ones((d,)))\n",
    "    Sigma2 = np.diag(sigma2 * np.ones((d,)))\n",
    "\n",
    "    x1 = np.random.multivariate_normal(mu1, Sigma1, n)\n",
    "    y1 = np.ones((x1.shape[0],))\n",
    "    x2 = np.random.multivariate_normal(mu2, Sigma2, n)\n",
    "    y2 = -np.ones((x2.shape[0],))\n",
    "    x = np.concatenate((x1, x2), axis = 0)\n",
    "    y = np.concatenate((y1, y2), axis = 0)\n",
    "\n",
    "    if toPickle:\n",
    "        with open(filename, 'wb') as f:\n",
    "            pickle.dump((x, y), f)"
   ]
  },
  {
   "cell_type": "code",
   "execution_count": 4,
   "metadata": {},
   "outputs": [],
   "source": [
    "def read_data(f):\n",
    "    with open(f, 'rb') as f:\n",
    "        data = pickle.load(f)\n",
    "    return data[0], data[1]"
   ]
  },
  {
   "cell_type": "code",
   "execution_count": 5,
   "metadata": {},
   "outputs": [],
   "source": [
    "def plot_data(x, y, colors=['red','blue']):\n",
    "    labels = np.unique(y)\n",
    "    for i in range(len(labels)):\n",
    "        x_label = x[y == labels[i]]\n",
    "        plt.scatter(x_label[:, 0], x_label[:, 1], c = colors[i])\n",
    "    plt.show()"
   ]
  },
  {
   "cell_type": "code",
   "execution_count": 54,
   "metadata": {},
   "outputs": [
    {
     "data": {
      "image/png": "[encoded data removed]",
      "text/plain": [
       "<Figure size 432x288 with 1 Axes>"
      ]
     },
     "metadata": {
      "needs_background": "light"
     },
     "output_type": "display_data"
    }
   ],
   "source": [
    "#generate_data(n=50, d=2, toPickle=True, filename='gaussiandata.pickle')\n",
    "x, y = read_data('gaussiandata.pickle')\n",
    "plot_data(x, y)"
   ]
  },
  {
   "cell_type": "markdown",
   "metadata": {},
   "source": [
    "# 1) generic QP method ($O(n^3)$)"
   ]
  },
  {
   "cell_type": "markdown",
   "metadata": {},
   "source": [
    "The SVM finds the vector $w$ which is normal to the maximum margin linear separator, where the margin is the perpendicular distance from the linear separator to the closest point.\n",
    "$$ \\underset{w,\\xi_1,\\ldots,\\xi_m}{\\arg\\min} \\|w\\|^2 + C \\sum_{i=1}^m \\xi_i $$\n",
    "s.t. \n",
    "$$ y_i w \\cdot x_i \\geq 1 - \\xi_i,\\ \\ \\forall i $$\n",
    "$$ \\xi_i \\geq 0,\\ \\forall i $$\n",
    "\n",
    "The Lagrangian dual problem for SVM is:\n",
    "$$ \\min_{\\alpha \\in \\mathbb{R}^n} \\frac{1}{2} \\alpha^T Q \\alpha - \\alpha^T \\boldsymbol{1} $$\n",
    "s.t.\n",
    "$$ 0 \\leq \\alpha \\leq C $$\n",
    "$$ \\alpha^T y = 0 $$\n",
    "where\n",
    "$$ [Q]_{ij} = y_i y_j K(x_i)^T K(x_j) $$"
   ]
  },
  {
   "cell_type": "markdown",
   "metadata": {},
   "source": [
    "## 1a) kernels"
   ]
  },
  {
   "cell_type": "code",
   "execution_count": 7,
   "metadata": {},
   "outputs": [],
   "source": [
    "def linear_kernel(x):\n",
    "    return x.dot(x.T)"
   ]
  },
  {
   "cell_type": "markdown",
   "metadata": {},
   "source": [
    "RBF Kernel: $$K(x, y) = \\exp\\Big({-\\gamma \\|x-y\\|^2}\\Big) = \\exp\\Big({-\\gamma \\Big(\\|x\\|^2 + \\|y\\|^2 - 2\\|x\\|\\|y\\|\\Big)}\\Big) $$"
   ]
  },
  {
   "cell_type": "code",
   "execution_count": 8,
   "metadata": {},
   "outputs": [],
   "source": [
    "def rbf_kernel(x, gamma=1):\n",
    "    \n",
    "    n = x.shape[0]\n",
    "    \n",
    "    x_sq = np.array([np.linalg.norm(xi)**2 for xi in x])\n",
    "    x_j_sq = np.array([x_sq,] * n)\n",
    "    x_i_sq = x_j_sq.T\n",
    "    \n",
    "    cross_terms = x.dot(x.T)\n",
    "    \n",
    "    K = np.exp(-0.5 * gamma * (x_i_sq + x_j_sq - 2*cross_terms))\n",
    "\n",
    "    return K"
   ]
  },
  {
   "cell_type": "markdown",
   "metadata": {},
   "source": [
    "## 1b) pick your favorite QP solver"
   ]
  },
  {
   "cell_type": "markdown",
   "metadata": {},
   "source": [
    "The Python package cvxopt has a function solvers.qp which solves QP problems. It takes the following arguments: \n",
    "\n",
    "solvers.qp(Q, l, G, h, A, b) corresponds to\n",
    "\n",
    "$$ \\max_{w} \\frac{1}{2}w^T Q w + l^T w  $$\n",
    "s.t.\n",
    "$$ Gw \\leq h $$\n",
    "$$ Aw = b $$"
   ]
  },
  {
   "cell_type": "code",
   "execution_count": 9,
   "metadata": {},
   "outputs": [],
   "source": [
    "def run_SVM_cvxopt(x, y, kernel=linear_kernel, soft=False, C=1):\n",
    "    \n",
    "    n = x.shape[0]\n",
    "    \n",
    "    K = kernel(x)\n",
    "    Q = matrix(np.diag(y.reshape(-1)).dot(K).dot(np.diag(y.reshape(-1))))\n",
    "    l = matrix(-np.ones((n, 1)))\n",
    "    \n",
    "    if not soft:  # hard margin SVM\n",
    "        G = matrix(-np.eye(n))\n",
    "        h = matrix(np.zeros(n))\n",
    "    else:  # soft margin SVM\n",
    "        G = matrix(np.vstack((-np.eye(n), np.eye(n))))\n",
    "        h = matrix(np.hstack((np.zeros(n), C * np.ones(n))))\n",
    "        \n",
    "    A = matrix(y.reshape(1, -1))\n",
    "    b = matrix(np.zeros(1))\n",
    "    \n",
    "    # pick your favorite QP solver\n",
    "    sol = solvers.qp(Q, l, G, h, A, b)\n",
    "    alpha = np.array(sol['x'])\n",
    "    \n",
    "    return alpha"
   ]
  },
  {
   "cell_type": "markdown",
   "metadata": {},
   "source": [
    "We can translate the dual solution $\\alpha$ back into the primal solution $w$ using\n",
    "$$ w = \\sum_{i=1}^n y_i \\alpha^T K(x_i) $$"
   ]
  },
  {
   "cell_type": "code",
   "execution_count": 10,
   "metadata": {},
   "outputs": [],
   "source": [
    "def alpha_to_w(alpha):\n",
    "    \n",
    "    w = np.sum(y[:, None] * alpha * x, axis = 0)\n",
    "    support_vecs = (alpha > 1e-4).reshape(-1)\n",
    "    b = (y[support_vecs] - np.dot(x[support_vecs], w))[0]\n",
    "    norm = np.linalg.norm(w)\n",
    "    w /= norm\n",
    "    b /= norm\n",
    "    \n",
    "    return w, b"
   ]
  },
  {
   "cell_type": "markdown",
   "metadata": {},
   "source": [
    "## 1c) plots"
   ]
  },
  {
   "cell_type": "code",
   "execution_count": 11,
   "metadata": {},
   "outputs": [],
   "source": [
    "def plot_data_with_SVM_separator(x, y, alpha, colors=['red','blue']):\n",
    "    fig, ax = plt.subplots()\n",
    "    \n",
    "    w, b = alpha_to_w(alpha=alpha)\n",
    "    \n",
    "    slope = -w[0] / w[1]\n",
    "    intercept = -b / w[1]\n",
    "    x_i = np.arange(0, 6)\n",
    "    ax.plot(x_i, x_i * slope + intercept, 'k-')\n",
    "    \n",
    "    labels = np.unique(y)\n",
    "    for i in range(len(labels)):\n",
    "        x_label = x[y == labels[i]]\n",
    "        ax.scatter(x_label[:, 0], x_label[:, 1], c = colors[i])"
   ]
  },
  {
   "cell_type": "markdown",
   "metadata": {},
   "source": [
    "The output of solvers.qp shows the primal and dual objective values in the first two columns. Note that these eventually converge to the same value, and their difference (the duality gap in the third column) converges to 0. The last two columns are the primal and dual residuals, which converge to zero.\n",
    "\n",
    "The two plots show 1) a hard SVM solution, where every point must be correctly classified with sufficient margin, 2) a soft SVM solution, where points are allowed to violate the hard SVM condition by incurring a penalty"
   ]
  },
  {
   "cell_type": "code",
   "execution_count": 12,
   "metadata": {},
   "outputs": [
    {
     "name": "stdout",
     "output_type": "stream",
     "text": [
      "     pcost       dcost       gap    pres   dres\n",
      " 0: -1.1243e+01 -2.2357e+01  3e+02  1e+01  2e+00\n",
      " 1: -1.7114e+01 -1.3816e+01  1e+02  5e+00  7e-01\n",
      " 2: -2.6505e+01 -1.4915e+01  7e+01  3e+00  4e-01\n",
      " 3: -1.1490e+01 -6.6554e+00  1e+01  5e-01  6e-02\n",
      " 4: -5.2065e+00 -5.5513e+00  4e-01  6e-04  8e-05\n",
      " 5: -5.3944e+00 -5.3981e+00  4e-03  6e-06  8e-07\n",
      " 6: -5.3964e+00 -5.3965e+00  4e-05  6e-08  8e-09\n",
      " 7: -5.3965e+00 -5.3965e+00  4e-07  6e-10  8e-11\n",
      "Optimal solution found.\n",
      "     pcost       dcost       gap    pres   dres\n",
      " 0: -6.0047e+00 -7.7411e+00  4e+02  2e+01  1e-14\n",
      " 1: -7.7562e-01 -7.3768e+00  1e+01  4e-01  1e-14\n",
      " 2: -5.1899e-01 -2.3237e+00  2e+00  5e-16  2e-15\n",
      " 3: -7.0533e-01 -1.0444e+00  3e-01  3e-16  2e-15\n",
      " 4: -7.9491e-01 -8.9961e-01  1e-01  2e-16  2e-15\n",
      " 5: -8.2171e-01 -8.5729e-01  4e-02  1e-16  1e-15\n",
      " 6: -8.3378e-01 -8.4087e-01  7e-03  1e-16  2e-15\n",
      " 7: -8.3667e-01 -8.3718e-01  5e-04  2e-16  2e-15\n",
      " 8: -8.3689e-01 -8.3690e-01  7e-06  1e-16  2e-15\n",
      " 9: -8.3689e-01 -8.3689e-01  7e-08  2e-16  2e-15\n",
      "Optimal solution found.\n"
     ]
    },
    {
     "data": {
      "image/png": "[encoded data removed]",
      "text/plain": [
       "<Figure size 432x288 with 1 Axes>"
      ]
     },
     "metadata": {
      "needs_background": "light"
     },
     "output_type": "display_data"
    },
    {
     "data": {
      "image/png": "[encoded data removed]",
      "text/plain": [
       "<Figure size 432x288 with 1 Axes>"
      ]
     },
     "metadata": {
      "needs_background": "light"
     },
     "output_type": "display_data"
    }
   ],
   "source": [
    "x, y = read_data('gaussiandata.pickle')\n",
    "\n",
    "alpha_cvx_hard = run_SVM_cvxopt(x, y, kernel=linear_kernel, soft=False)\n",
    "plot_data_with_SVM_separator(x, y, alpha_cvx_hard)\n",
    "\n",
    "alpha_cvx_soft = run_SVM_cvxopt(x, y, kernel=linear_kernel, soft=True, C=0.05)\n",
    "plot_data_with_SVM_separator(x, y, alpha_cvx_soft)"
   ]
  },
  {
   "cell_type": "markdown",
   "metadata": {},
   "source": [
    "# 2) primal-dual interior point method (PDIPM) ($O(n^3)$)"
   ]
  },
  {
   "cell_type": "markdown",
   "metadata": {},
   "source": [
    "PDIPM is one specific type of QP method we can implement by hand. We choose this method because it is amenable to parallelization."
   ]
  },
  {
   "cell_type": "markdown",
   "metadata": {},
   "source": [
    "We can rewrite the dual SVM problem as:\n",
    "$$ \\min_{\\alpha \\in \\mathbb{R}^n} \\frac{1}{2} \\alpha^T Q \\alpha + C \\sum_{i=1}^n \\lambda_i $$\n",
    "s.t.\n",
    "$$ \\alpha^T y = 0 $$\n",
    "$$ Q\\alpha - \\lambda  + \\xi + \\nu y = \\boldsymbol{1} $$\n",
    "$$ \\xi, \\lambda \\geq 0 $$\n",
    "where\n",
    "$$ [Q]_{ij} = y_i y_j K(x_i)^T K(x_j) $$"
   ]
  },
  {
   "cell_type": "markdown",
   "metadata": {},
   "source": [
    "## 2a) helper functions"
   ]
  },
  {
   "cell_type": "markdown",
   "metadata": {},
   "source": [
    "In order for primal-dual IPM to work, we must start with a feasible point. The feasibility conditions on $\\alpha$ are:\n",
    "$$ \\alpha^T y = 0 $$\n",
    "$$ 0 \\leq \\alpha \\leq C $$"
   ]
  },
  {
   "cell_type": "code",
   "execution_count": 13,
   "metadata": {},
   "outputs": [],
   "source": [
    "def find_starting_alpha(y, C=1):\n",
    "    \n",
    "    # proportion of +1's in y\n",
    "    y_pos_prop = np.sum((y + 1) / 2) / len(y)\n",
    "    \n",
    "    alpha = np.array([(1 - y_pos_prop) * C if y_i == 1 else y_pos_prop * C for y_i in y])\n",
    "    \n",
    "    # feasibility conditions\n",
    "    assert(abs(np.dot(alpha,y)) <= 1e-8)\n",
    "    assert((alpha >= 0).prod() == 1)\n",
    "    assert((alpha <= C).prod() == 1)\n",
    "    \n",
    "    return alpha"
   ]
  },
  {
   "cell_type": "markdown",
   "metadata": {},
   "source": [
    "Recall the original dual objective: $$ \\frac{1}{2} \\alpha^T Q \\alpha - \\alpha^T \\boldsymbol{1} $$"
   ]
  },
  {
   "cell_type": "code",
   "execution_count": 14,
   "metadata": {},
   "outputs": [],
   "source": [
    "def calc_dual_objective(x, y, alpha, Q):\n",
    "    return (0.5 * alpha.T.dot(Q).dot(alpha) - alpha.sum())"
   ]
  },
  {
   "cell_type": "markdown",
   "metadata": {},
   "source": [
    "We define the dual residual as: $$ Q\\alpha - \\lambda  + \\xi + \\nu y - \\boldsymbol{1} $$\n",
    "and we iterate until it converges to 0, i.e. the corresponding constraint is satisfied."
   ]
  },
  {
   "cell_type": "code",
   "execution_count": 15,
   "metadata": {},
   "outputs": [],
   "source": [
    "def calc_dual_residual(n, Q, alpha, lambduh, ksi, nu, y):\n",
    "    return Q.dot(alpha) - np.eye(n).dot(lambduh) + np.eye(n).dot(ksi) + nu*y -np.ones((n,))"
   ]
  },
  {
   "cell_type": "markdown",
   "metadata": {},
   "source": [
    "We define the central residual as:\n",
    "$$ \\begin{bmatrix}\n",
    "vec\\Big(\\lambda_i\\alpha_i - \\frac{1}{t}\\Big) \\\\\n",
    "vec\\Big(\\xi_i(C-\\alpha_i) - \\frac{1}{t}\\Big)\n",
    "\\end{bmatrix} $$\n",
    "and we iterate until it converges to 0."
   ]
  },
  {
   "cell_type": "code",
   "execution_count": 16,
   "metadata": {},
   "outputs": [],
   "source": [
    "def calc_central_residual(n, lambduh, ksi, helper_vector, t):\n",
    "    helper_matrix = np.vstack((np.hstack((np.diag(lambduh), np.zeros((n,n)))),\n",
    "                               np.hstack((np.zeros((n,n)), np.diag(ksi)))))\n",
    "    central_residual = -helper_matrix.dot(helper_vector) - np.ones((2 * n,)) / t\n",
    "    return helper_matrix, central_residual"
   ]
  },
  {
   "cell_type": "markdown",
   "metadata": {},
   "source": [
    "This helper vector shows up in several places. When running backtracking to find a valid step size $s$, this helper vector must be $\\leq 0$, which means it satisfies the feasibility conditions:\n",
    "$$ \\alpha^T y = 0 $$\n",
    "$$ 0 \\leq \\alpha \\leq C $$"
   ]
  },
  {
   "cell_type": "code",
   "execution_count": 17,
   "metadata": {},
   "outputs": [],
   "source": [
    "def calc_helper_vector(alpha, n, C=1):\n",
    "    return np.concatenate((-alpha, alpha - C * np.ones((n,))))"
   ]
  },
  {
   "cell_type": "markdown",
   "metadata": {},
   "source": [
    "## 2b) gradient calculation"
   ]
  },
  {
   "cell_type": "markdown",
   "metadata": {},
   "source": [
    "To calculate the gradient, we solve the following equation:\n",
    "$$ \\begin{bmatrix}\n",
    "Q & -I_n & I_n & y \\\\\n",
    "diag(\\lambda) & diag(\\alpha) & 0_n & 0_n \\\\\n",
    "-diag(\\xi) & 0_n & diag(C-\\alpha) & 0_n \\\\\n",
    "y^T & 0_n^T & 0_n^T & 0\n",
    "\\end{bmatrix}\n",
    "\\begin{bmatrix}\n",
    "\\Delta\\alpha \\\\\n",
    "\\Delta\\lambda \\\\\n",
    "\\Delta\\xi \\\\\n",
    "\\Delta\\nu\n",
    "\\end{bmatrix}\n",
    "=\n",
    "-\\begin{bmatrix}\n",
    "Q\\alpha - \\lambda  + \\xi + \\nu y - \\boldsymbol{1} \\\\\n",
    "vec\\Big(\\lambda_i\\alpha_i - \\frac{1}{t}\\Big) \\\\\n",
    "vec\\Big(\\xi_i(C-\\alpha_i) - \\frac{1}{t}\\Big) \\\\\n",
    "y^T \\alpha\n",
    "\\end{bmatrix}$$\n",
    "for the variables $\\Delta\\alpha, \\Delta\\lambda, \\Delta\\xi, \\Delta\\nu$. We do so by inverting the matrix on the left."
   ]
  },
  {
   "cell_type": "code",
   "execution_count": 19,
   "metadata": {},
   "outputs": [],
   "source": [
    "def calc_gradient(n, Q, alpha, y, lambduh, ksi, nu, helper_vector, t):\n",
    "    \n",
    "    dual_residual = calc_dual_residual(n=n, Q=Q, alpha=alpha, y=y, lambduh=lambduh, ksi=ksi, nu=nu)\n",
    "    helper_matrix, central_residual = calc_central_residual(n=n, lambduh=lambduh, ksi=ksi,\n",
    "                                                            helper_vector=helper_vector, t=t)\n",
    "    primal_residual = alpha.dot(y).reshape(1,)\n",
    "    residuals = np.concatenate((dual_residual, central_residual, primal_residual))\n",
    "    assert dual_residual.shape == (n,)\n",
    "    assert central_residual.shape == (2*n,)\n",
    "    assert residuals.shape == (3*n + 1,)\n",
    "    \n",
    "    matrix_top = np.hstack((Q, np.hstack((-np.eye(n), np.eye(n))), y.reshape(-1, 1)))\n",
    "    matrix_middle = np.hstack((-helper_matrix.dot(np.vstack((-np.eye(n), np.eye(n)))),\n",
    "                               np.diag(-helper_vector), np.zeros((2*n,)).reshape(-1, 1)))\n",
    "    matrix_bottom = np.concatenate((y, np.zeros((2*n + 1,)))).reshape(1, -1)\n",
    "    assert matrix_top.shape == (n, 3*n+1)\n",
    "    assert matrix_middle.shape == (2*n, 3*n +1)\n",
    "    assert matrix_bottom.shape == (1, 3*n + 1)\n",
    "\n",
    "    matrix_full = np.vstack((matrix_top, matrix_middle, matrix_bottom))\n",
    "    assert matrix_full.shape == (3*n +1, 3*n+1)\n",
    "    \n",
    "    gradient = -(np.linalg.inv(matrix_full)).dot(residuals)\n",
    "    assert gradient.shape == (3*n +1, )\n",
    "    \n",
    "    return gradient, residuals"
   ]
  },
  {
   "cell_type": "markdown",
   "metadata": {},
   "source": [
    "## 2c) step size calculation"
   ]
  },
  {
   "cell_type": "markdown",
   "metadata": {},
   "source": [
    "First, calculate a max step size, which we gradually reduce until we find a valid step size. The largest this can be is 1, which corresponds to pure (undamped) Newton's method."
   ]
  },
  {
   "cell_type": "code",
   "execution_count": 20,
   "metadata": {},
   "outputs": [],
   "source": [
    "def calc_s_max(lambduh, ksi, gradient, n):\n",
    "    \n",
    "    central_vars = np.concatenate((lambduh, ksi))\n",
    "    central_vars_gradient = gradient[n:3*n]\n",
    "    central_vars_gradient_neg = central_vars_gradient < 0\n",
    "    if not np.all(central_vars_gradient_neg == False):\n",
    "        min_ratio = np.min(np.divide(central_vars[central_vars_gradient_neg],\n",
    "                                     -central_vars_gradient[central_vars_gradient_neg]))\n",
    "        s_max = min([1, min_ratio])\n",
    "    else:\n",
    "        s_max = 1\n",
    "    \n",
    "    return s_max"
   ]
  },
  {
   "cell_type": "markdown",
   "metadata": {},
   "source": [
    "Gradually reduce the step size until we find one that works."
   ]
  },
  {
   "cell_type": "code",
   "execution_count": 21,
   "metadata": {},
   "outputs": [],
   "source": [
    "def calc_step_size(alpha, lambduh, ksi, nu, n, C, Q, y, t, a, b, gradient, residuals):\n",
    "    \n",
    "    s_max = calc_s_max(lambduh=lambduh, ksi=ksi, gradient=gradient, n=n)\n",
    "    s = 0.99 * s_max\n",
    "\n",
    "    found_s = False\n",
    "    while not found_s:\n",
    "\n",
    "        alpha_try = alpha + s*gradient[ : n]\n",
    "        lambduh_try = lambduh + s*gradient[n : 2*n]\n",
    "        ksi_try = ksi + s*gradient[2*n : 3*n]\n",
    "        nu_try = nu + s*gradient[-1]\n",
    "\n",
    "        helper_vector_try = calc_helper_vector(alpha=alpha_try, n=n, C=C)\n",
    "        dual_residual_try = calc_dual_residual(n=n, Q=Q, alpha=alpha_try, lambduh=lambduh_try,\n",
    "                                               ksi=ksi_try, nu=nu_try, y=y)\n",
    "        _, central_residual_try = calc_central_residual(n=n, lambduh=lambduh_try, ksi=ksi_try,\n",
    "                                                        helper_vector=helper_vector_try, t=t)\n",
    "        primal_residual_try = np.dot(alpha_try, y).reshape(1, )\n",
    "        residuals_try = np.concatenate((dual_residual_try, central_residual_try, primal_residual_try))\n",
    "\n",
    "        if np.all(helper_vector_try < 0) and \\\n",
    "        np.linalg.norm(residuals_try) <= (1 - a * s) * np.linalg.norm(residuals):\n",
    "            found_s = True\n",
    "        else:\n",
    "            s = b * s\n",
    "    \n",
    "    return s, alpha_try, lambduh_try, ksi_try, nu_try, helper_vector_try, \\\n",
    "        primal_residual_try, dual_residual_try"
   ]
  },
  {
   "cell_type": "markdown",
   "metadata": {},
   "source": [
    "## 2d) PDIPM method and results"
   ]
  },
  {
   "cell_type": "markdown",
   "metadata": {},
   "source": [
    "Given all the ingredients above, PDIPM simply repeats until convergence the following iterative update steps:\n",
    "- $\\alpha \\leftarrow \\alpha + \\Delta \\alpha$\n",
    "- $\\lambda \\leftarrow \\lambda + \\Delta \\lambda$\n",
    "- $\\xi \\leftarrow \\xi + \\Delta \\xi$\n",
    "- $\\nu \\leftarrow \\nu + \\Delta \\nu$\n",
    "\n",
    "Convergence means the below conditions are all satisfied\n",
    "- $\\alpha$ is primal feasible\n",
    "- $\\lambda$, $\\xi$, and $\\nu$ are dual feasible\n",
    "- surrogate gap $ \\lambda \\alpha - \\xi (C - \\alpha) $ is below threshold\n",
    "\n"
   ]
  },
  {
   "cell_type": "code",
   "execution_count": 22,
   "metadata": {},
   "outputs": [],
   "source": [
    "def solve_SVM_PDIPM(x, y, n, Q, alpha, lambduh, ksi, nu, C=1, mu=10, feasible_tol=1e-6, dual_gap_tol=2e-6,\n",
    "                    a=0.01, b=0.5, verbose=True, gradient_method=\"together\", p=1):\n",
    "    \n",
    "    helper_vector = calc_helper_vector(alpha=alpha, n=n, C=C)\n",
    "    eta = -np.dot(helper_vector, np.concatenate((lambduh, ksi)))\n",
    "    \n",
    "    dual_objectives = []\n",
    "    dual_objective = calc_dual_objective(x, y, alpha, Q)\n",
    "    dual_objectives.append(dual_objective)\n",
    "    \n",
    "    i = 0\n",
    "    converged = False\n",
    "    while not converged:\n",
    "        \n",
    "        t = 2 * n * mu/ eta\n",
    "        \n",
    "        # calculate gradients: for alpha, lambduh, ksi, nu\n",
    "        if gradient_method == \"together\":\n",
    "            gradient, residuals = calc_gradient(n=n, Q=Q, alpha=alpha, y=y, lambduh=lambduh, ksi=ksi,\n",
    "                                                nu=nu, helper_vector=helper_vector, t=t)\n",
    "        elif gradient_method == \"separate\":\n",
    "            gradient, residuals = calc_gradient_separate(n=n, Q=Q, C=C, alpha=alpha, y=y, lambduh=lambduh,\n",
    "                                                         ksi=ksi, nu=nu, helper_vector=helper_vector, t=t)\n",
    "        elif gradient_method == \"lowrank\":\n",
    "            H = calc_ICF(Q=Q, p=p)\n",
    "            gradient, residuals = calc_gradient_lowrank(n=n, p=p, Q=Q, H=H, C=C, alpha=alpha, y=y,\n",
    "                                                        lambduh=lambduh, ksi=ksi, nu=nu,\n",
    "                                                        helper_vector=helper_vector, t=t)\n",
    "        elif gradient_method == \"parallel\":\n",
    "            H = calc_ICF_parallel(Q=Q, p=p)\n",
    "            gradient, residuals = calc_gradient_lowrank(n=n, p=p, Q=Q, H=H, C=C, alpha=alpha, y=y,\n",
    "                                                        lambduh=lambduh, ksi=ksi, nu=nu,\n",
    "                                                        helper_vector=helper_vector, t=t)\n",
    "        else:\n",
    "            raise Exception(\"gradient_method must either be 'together' or 'separate'!\")\n",
    "        \n",
    "        # calculate step size, update by taking step in direction of gradient\n",
    "        s, alpha, lambduh, ksi, nu, helper_vector, primal_residual, dual_residual = \\\n",
    "        calc_step_size(alpha=alpha, lambduh=lambduh, ksi=ksi, nu=nu, n=n, C=C, Q=Q,\n",
    "                       y=y, t=t, a=a, b=b, gradient=gradient, residuals=residuals)\n",
    "        \n",
    "        # compute surrogate duality gap and feasibility gap\n",
    "        eta = -np.dot(helper_vector, np.concatenate((lambduh, ksi)))\n",
    "        feasible_gap = np.sqrt(np.linalg.norm(primal_residual) + np.linalg.norm(dual_residual))\n",
    "        if feasible_gap <= feasible_tol and eta <= dual_gap_tol:\n",
    "            converged = True\n",
    "        \n",
    "        dual_objective = calc_dual_objective(x=x, y=y, alpha=alpha, Q=Q)\n",
    "        dual_objectives.append(dual_objective)\n",
    "        \n",
    "        if verbose:\n",
    "            print(\"Iteration: %d, Objective: %f, Feasibility gap: %f, Duality gap: %f, Step size: %f\" %\n",
    "                  (i, dual_objective, feasible_gap, eta, s))\n",
    "        i += 1\n",
    "\n",
    "    return alpha, dual_objectives"
   ]
  },
  {
   "cell_type": "code",
   "execution_count": 23,
   "metadata": {},
   "outputs": [],
   "source": [
    "# Note: mu, a, b are tuning params\n",
    "def run_SVM_PDIPM(x, y, kernel=linear_kernel, C=1, mu=10, a=0.01, b=0.5, verbose=True,\n",
    "                  gradient_method=\"together\", p=1, feasible_tol=1e-6, dual_gap_tol=2e-6):\n",
    "    \n",
    "    n = x.shape[0]\n",
    "    K = kernel(x)\n",
    "    Q = np.diag(y.reshape(-1)).dot(K).dot(np.diag(y.reshape(-1)))\n",
    "    \n",
    "    # starting values for variables we iteratively optimize over\n",
    "    alpha_start = find_starting_alpha(y, C)\n",
    "    lambduh_start = np.ones((n,))\n",
    "    ksi_start = np.zeros((n,))\n",
    "    nu_start = 0\n",
    "    \n",
    "    # run solver\n",
    "    alpha, dual_objectives = solve_SVM_PDIPM(x=x, y=y, n=n, Q=Q, alpha=alpha_start, lambduh=lambduh_start,\n",
    "                                             ksi=ksi_start, nu=nu_start, C=C, mu=mu,\n",
    "                                             feasible_tol=feasible_tol, dual_gap_tol=dual_gap_tol,\n",
    "                                             a=a, b=b, verbose=verbose, gradient_method=gradient_method, p=p)\n",
    "    \n",
    "    return alpha, dual_objectives"
   ]
  },
  {
   "cell_type": "code",
   "execution_count": 24,
   "metadata": {},
   "outputs": [
    {
     "name": "stdout",
     "output_type": "stream",
     "text": [
      "Iteration: 0, Objective: 0.484140, Feasibility gap: 6.804121, Duality gap: 1.247259, Step size: 0.547040\n",
      "Iteration: 1, Objective: 0.410149, Feasibility gap: 6.684737, Duality gap: 1.207622, Step size: 0.034784\n",
      "Iteration: 2, Objective: 0.290903, Feasibility gap: 6.460113, Duality gap: 1.134651, Step size: 0.066076\n",
      "Iteration: 3, Objective: 0.121839, Feasibility gap: 6.082833, Duality gap: 1.017359, Step size: 0.113392\n",
      "Iteration: 4, Objective: -0.158535, Feasibility gap: 5.317705, Duality gap: 0.797008, Step size: 0.235748\n",
      "Iteration: 5, Objective: -0.372443, Feasibility gap: 4.547602, Duality gap: 0.602408, Step size: 0.268665\n",
      "Iteration: 6, Objective: -0.526760, Feasibility gap: 3.779420, Duality gap: 0.436470, Step size: 0.309306\n",
      "Iteration: 7, Objective: -0.613923, Feasibility gap: 3.203530, Duality gap: 0.327702, Step size: 0.281532\n",
      "Iteration: 8, Objective: -0.675960, Feasibility gap: 2.703922, Duality gap: 0.244017, Step size: 0.287589\n",
      "Iteration: 9, Objective: -0.719022, Feasibility gap: 2.294582, Duality gap: 0.183201, Step size: 0.279857\n",
      "Iteration: 10, Objective: -0.753383, Feasibility gap: 1.884280, Duality gap: 0.130469, Step size: 0.325653\n",
      "Iteration: 11, Objective: -0.785372, Feasibility gap: 1.393991, Duality gap: 0.078507, Step size: 0.452695\n",
      "Iteration: 12, Objective: -0.791729, Feasibility gap: 1.300126, Duality gap: 0.069322, Step size: 0.130137\n",
      "Iteration: 13, Objective: -0.797978, Feasibility gap: 1.195135, Duality gap: 0.059687, Step size: 0.154988\n",
      "Iteration: 14, Objective: -0.806738, Feasibility gap: 1.025636, Duality gap: 0.045637, Step size: 0.263534\n",
      "Iteration: 15, Objective: -0.818394, Feasibility gap: 0.762217, Duality gap: 0.027377, Step size: 0.447705\n",
      "Iteration: 16, Objective: -0.823393, Feasibility gap: 0.642009, Duality gap: 0.020217, Step size: 0.290546\n",
      "Iteration: 17, Objective: -0.825350, Feasibility gap: 0.588363, Duality gap: 0.017306, Step size: 0.160136\n",
      "Iteration: 18, Objective: -0.828438, Feasibility gap: 0.492926, Duality gap: 0.012670, Step size: 0.298104\n",
      "Iteration: 19, Objective: -0.833212, Feasibility gap: 0.302403, Duality gap: 0.005572, Step size: 0.623635\n",
      "Iteration: 20, Objective: -0.834649, Feasibility gap: 0.229723, Duality gap: 0.003452, Step size: 0.422919\n",
      "Iteration: 21, Objective: -0.835577, Feasibility gap: 0.170677, Duality gap: 0.002061, Step size: 0.447997\n",
      "Iteration: 22, Objective: -0.836175, Feasibility gap: 0.121482, Duality gap: 0.001146, Step size: 0.493393\n",
      "Iteration: 23, Objective: -0.836501, Feasibility gap: 0.086329, Duality gap: 0.000637, Step size: 0.495000\n",
      "Iteration: 24, Objective: -0.836855, Feasibility gap: 0.008633, Duality gap: 0.000071, Step size: 0.990000\n",
      "Iteration: 25, Objective: -0.836887, Feasibility gap: 0.000863, Duality gap: 0.000008, Step size: 0.990000\n",
      "Iteration: 26, Objective: -0.836891, Feasibility gap: 0.000086, Duality gap: 0.000001, Step size: 0.990000\n",
      "Iteration: 27, Objective: -0.836891, Feasibility gap: 0.000009, Duality gap: 0.000000, Step size: 0.990000\n",
      "Iteration: 28, Objective: -0.836891, Feasibility gap: 0.000001, Duality gap: 0.000000, Step size: 0.990000\n"
     ]
    }
   ],
   "source": [
    "x, y = read_data('gaussiandata.pickle')\n",
    "alpha_together, dual_obj_together = run_SVM_PDIPM(x, y, kernel=linear_kernel, C=0.05, mu=10, a=0.01,\n",
    "                                                  b=0.5, verbose=True, gradient_method=\"together\")"
   ]
  },
  {
   "cell_type": "markdown",
   "metadata": {},
   "source": [
    "## 2e) plots"
   ]
  },
  {
   "cell_type": "code",
   "execution_count": 25,
   "metadata": {},
   "outputs": [],
   "source": [
    "def plot_dual_objective(dual_objectives=dual_obj_together):\n",
    "    plt.plot(range(len(dual_obj_together)), dual_obj_together)\n",
    "    plt.xlabel('Iteration')\n",
    "    plt.ylabel('Dual Objective')\n",
    "    plt.title('Convergence of Dual Objective Value')"
   ]
  },
  {
   "cell_type": "markdown",
   "metadata": {},
   "source": [
    "Nice to see we get the same solution as above"
   ]
  },
  {
   "cell_type": "code",
   "execution_count": 26,
   "metadata": {},
   "outputs": [
    {
     "data": {
      "image/png": "[encoded data removed]",
      "text/plain": [
       "<Figure size 432x288 with 1 Axes>"
      ]
     },
     "metadata": {
      "needs_background": "light"
     },
     "output_type": "display_data"
    }
   ],
   "source": [
    "plot_data_with_SVM_separator(x, y, alpha_together.reshape((len(alpha_together),1)))"
   ]
  },
  {
   "cell_type": "markdown",
   "metadata": {},
   "source": [
    "The objective value continues to decrease (we are performing a minimization) until it converges to the global minimum."
   ]
  },
  {
   "cell_type": "code",
   "execution_count": 27,
   "metadata": {},
   "outputs": [
    {
     "data": {
      "image/png": "[encoded data removed]",
      "text/plain": [
       "<Figure size 432x288 with 1 Axes>"
      ]
     },
     "metadata": {
      "needs_background": "light"
     },
     "output_type": "display_data"
    }
   ],
   "source": [
    "plot_dual_objective(dual_obj_together)"
   ]
  },
  {
   "cell_type": "markdown",
   "metadata": {},
   "source": [
    "## 2f) alternative gradient calculation"
   ]
  },
  {
   "cell_type": "markdown",
   "metadata": {},
   "source": [
    "Alternatively, we can calculate the gradient of each variable separately, using the following equations:\n",
    "$$ \\Delta\\alpha = \\Sigma^{-1}(z - y\\Delta\\nu) $$\n",
    "$$ \\Delta\\lambda = -\\lambda + vec \\Big( \\frac{1}{t(\\alpha_i)} \\Big) - diag\\Big(\\frac{\\lambda_i}{\\alpha_i} \\Big)\\Delta\\alpha $$\n",
    "$$ \\Delta\\xi = -\\xi + vec\\Big( \\frac{1}{t(C-\\alpha_i)} \\Big) + diag\\Big(\\frac{\\xi_i}{C-\\alpha_i} \\Big)\\Delta\\alpha $$\n",
    "$$ \\Delta\\nu = \\frac{y^T \\Sigma^{-1}y + y^T\\alpha}{y^T \\Sigma^{-1}y} $$\n",
    "where\n",
    "$$ \\Sigma = Q + diag\\Big(\\frac{\\lambda_i}{\\alpha_i} + \\frac{\\xi_i}{C-\\alpha_i} \\Big) $$\n",
    "$$ z = -Q\\alpha + \\boldsymbol{1} - \\nu y + \\frac{1}{t} vec \\Big( \\frac{1}{\\alpha_i} - \\frac{1}{t(C-\\alpha_i)} \\Big) $$\n",
    "\n",
    "This alternative calculation is what we need in order to employ parallelization, in the next sections."
   ]
  },
  {
   "cell_type": "code",
   "execution_count": 28,
   "metadata": {},
   "outputs": [],
   "source": [
    "def calc_gradient_separate(n, Q, C, alpha, y, lambduh, ksi, nu, helper_vector, t):\n",
    "    \n",
    "    dual_residual = calc_dual_residual(n=n, Q=Q, alpha=alpha, y=y, lambduh=lambduh, ksi=ksi, nu=nu)\n",
    "    helper_matrix, central_residual = calc_central_residual(n=n, lambduh=lambduh, ksi=ksi,\n",
    "                                                            helper_vector=helper_vector, t=t)\n",
    "    primal_residual = alpha.dot(y).reshape(1,)\n",
    "    residuals = np.concatenate((dual_residual, central_residual, primal_residual))\n",
    "    \n",
    "    assert dual_residual.shape == (n,)\n",
    "    assert central_residual.shape == (2*n,)\n",
    "    assert residuals.shape == (3*n + 1,)\n",
    "    \n",
    "    Sigma = Q + np.diag( lambduh / alpha + ksi / (C*np.ones((n,)) - alpha) )\n",
    "    z = -Q.dot(alpha) + np.ones((n,)) - nu*y + (1 / alpha - 1 / (C*np.ones((n,)) - alpha) ) / t\n",
    "\n",
    "    grad_nu = (y.T.dot(np.linalg.inv(Sigma)).dot(z.reshape((n,1))) + y.T.dot(alpha)) \\\n",
    "    / y.T.dot(np.linalg.inv(Sigma)).dot(y)\n",
    "    \n",
    "    grad_alpha = np.linalg.inv(Sigma).dot(z - grad_nu * y)\n",
    "    \n",
    "    grad_lambduh = -lambduh + 1 / (t * alpha) - np.diag(lambduh / alpha).dot(grad_alpha)\n",
    "    \n",
    "    grad_ksi = -ksi + 1 / (t * (C*np.ones((n,)) - alpha) ) + \\\n",
    "    np.diag(ksi / (C*np.ones((n,)) - alpha) ).dot(grad_alpha)\n",
    "    \n",
    "    gradient = np.concatenate((grad_alpha, grad_lambduh, grad_ksi, grad_nu))\n",
    "    assert gradient.shape == (3*n +1, )\n",
    "    \n",
    "    return gradient, residuals"
   ]
  },
  {
   "cell_type": "code",
   "execution_count": 29,
   "metadata": {},
   "outputs": [
    {
     "name": "stdout",
     "output_type": "stream",
     "text": [
      "Iteration: 0, Objective: 0.484140, Feasibility gap: 6.804121, Duality gap: 1.247259, Step size: 0.547040\n",
      "Iteration: 1, Objective: 0.410149, Feasibility gap: 6.684737, Duality gap: 1.207622, Step size: 0.034784\n",
      "Iteration: 2, Objective: 0.290903, Feasibility gap: 6.460113, Duality gap: 1.134651, Step size: 0.066076\n",
      "Iteration: 3, Objective: 0.121839, Feasibility gap: 6.082833, Duality gap: 1.017359, Step size: 0.113392\n",
      "Iteration: 4, Objective: -0.158535, Feasibility gap: 5.317705, Duality gap: 0.797008, Step size: 0.235748\n",
      "Iteration: 5, Objective: -0.372443, Feasibility gap: 4.547602, Duality gap: 0.602408, Step size: 0.268665\n",
      "Iteration: 6, Objective: -0.526760, Feasibility gap: 3.779420, Duality gap: 0.436470, Step size: 0.309306\n",
      "Iteration: 7, Objective: -0.613923, Feasibility gap: 3.203530, Duality gap: 0.327702, Step size: 0.281532\n",
      "Iteration: 8, Objective: -0.675960, Feasibility gap: 2.703922, Duality gap: 0.244017, Step size: 0.287589\n",
      "Iteration: 9, Objective: -0.719022, Feasibility gap: 2.294582, Duality gap: 0.183201, Step size: 0.279857\n",
      "Iteration: 10, Objective: -0.753383, Feasibility gap: 1.884280, Duality gap: 0.130469, Step size: 0.325653\n",
      "Iteration: 11, Objective: -0.785372, Feasibility gap: 1.393991, Duality gap: 0.078507, Step size: 0.452695\n",
      "Iteration: 12, Objective: -0.791729, Feasibility gap: 1.300126, Duality gap: 0.069322, Step size: 0.130137\n",
      "Iteration: 13, Objective: -0.797978, Feasibility gap: 1.195135, Duality gap: 0.059687, Step size: 0.154988\n",
      "Iteration: 14, Objective: -0.806738, Feasibility gap: 1.025636, Duality gap: 0.045637, Step size: 0.263534\n",
      "Iteration: 15, Objective: -0.818394, Feasibility gap: 0.762217, Duality gap: 0.027377, Step size: 0.447705\n",
      "Iteration: 16, Objective: -0.823393, Feasibility gap: 0.642009, Duality gap: 0.020217, Step size: 0.290546\n",
      "Iteration: 17, Objective: -0.825350, Feasibility gap: 0.588363, Duality gap: 0.017306, Step size: 0.160136\n",
      "Iteration: 18, Objective: -0.828438, Feasibility gap: 0.492926, Duality gap: 0.012670, Step size: 0.298104\n",
      "Iteration: 19, Objective: -0.833212, Feasibility gap: 0.302403, Duality gap: 0.005572, Step size: 0.623635\n",
      "Iteration: 20, Objective: -0.834649, Feasibility gap: 0.229723, Duality gap: 0.003452, Step size: 0.422919\n",
      "Iteration: 21, Objective: -0.835577, Feasibility gap: 0.170677, Duality gap: 0.002061, Step size: 0.447997\n",
      "Iteration: 22, Objective: -0.836175, Feasibility gap: 0.121482, Duality gap: 0.001146, Step size: 0.493393\n",
      "Iteration: 23, Objective: -0.836501, Feasibility gap: 0.086329, Duality gap: 0.000637, Step size: 0.495000\n",
      "Iteration: 24, Objective: -0.836855, Feasibility gap: 0.008633, Duality gap: 0.000071, Step size: 0.990000\n",
      "Iteration: 25, Objective: -0.836887, Feasibility gap: 0.000863, Duality gap: 0.000008, Step size: 0.990000\n",
      "Iteration: 26, Objective: -0.836891, Feasibility gap: 0.000086, Duality gap: 0.000001, Step size: 0.990000\n",
      "Iteration: 27, Objective: -0.836891, Feasibility gap: 0.000009, Duality gap: 0.000000, Step size: 0.990000\n",
      "Iteration: 28, Objective: -0.836891, Feasibility gap: 0.000001, Duality gap: 0.000000, Step size: 0.990000\n"
     ]
    }
   ],
   "source": [
    "x, y = read_data('gaussiandata.pickle')\n",
    "alpha_separate, dual_obj_separate = run_SVM_PDIPM(x, y, kernel=linear_kernel, C=0.05, mu=10, a=0.01,\n",
    "                                                  b=0.5, verbose=True, gradient_method=\"separate\")"
   ]
  },
  {
   "cell_type": "code",
   "execution_count": 31,
   "metadata": {},
   "outputs": [
    {
     "data": {
      "image/png": "[encoded data removed]",
      "text/plain": [
       "<Figure size 432x288 with 1 Axes>"
      ]
     },
     "metadata": {
      "needs_background": "light"
     },
     "output_type": "display_data"
    }
   ],
   "source": [
    "plot_data_with_SVM_separator(x, y, alpha_separate.reshape((len(alpha_separate),1)))"
   ]
  },
  {
   "cell_type": "code",
   "execution_count": 32,
   "metadata": {},
   "outputs": [
    {
     "data": {
      "image/png": "[encoded data removed]",
      "text/plain": [
       "<Figure size 432x288 with 1 Axes>"
      ]
     },
     "metadata": {
      "needs_background": "light"
     },
     "output_type": "display_data"
    }
   ],
   "source": [
    "plot_dual_objective(dual_obj_separate)"
   ]
  },
  {
   "cell_type": "markdown",
   "metadata": {},
   "source": [
    "# 3) approximate (low-rank) SVM with PDIPM ($O(np^2)$)"
   ]
  },
  {
   "cell_type": "markdown",
   "metadata": {},
   "source": [
    "Inverting large matrices is slow. What if we could instead just work with low-rank approximations to the large matrix $\\Sigma$?"
   ]
  },
  {
   "cell_type": "markdown",
   "metadata": {},
   "source": [
    "We defined\n",
    "$$ \\Sigma = Q + D $$\n",
    "where\n",
    "$$ D = diag\\Big(\\frac{\\lambda_i}{\\alpha_i} + \\frac{\\xi_i}{C-\\alpha_i} \\Big) $$\n",
    "\n",
    "By the Sherman-Morrison-Woodbury formula,\n",
    "$$ \\Sigma^{-1} = (D + Q)^{-1} \\approx (D + HH^T)^{-1} $$\n",
    "$$ = D^{-1} - D^{-1}H(I_p + H^TD^{-1}H)^{-1}H^TD^{-1} $$\n",
    "where\n",
    "$$ Q \\approx HH^T $$\n",
    "is a low-rank factorization of $Q$, which means\n",
    "$$ Q \\in \\mathbb{R}^{n\\times n} $$ \n",
    "$$ H \\in \\mathbb{R}^{n\\times p},\\ p < n $$\n",
    "We obtain the low-rank factorization by performing an incomplete Cholesky factorization of $Q$.\n",
    "\n",
    "So we have reduced an $O(n^3)$ matrix inverse to $O(np^2)$."
   ]
  },
  {
   "cell_type": "markdown",
   "metadata": {},
   "source": [
    "## 3a) incomplete Cholesky factorization of $\\Sigma$"
   ]
  },
  {
   "cell_type": "markdown",
   "metadata": {},
   "source": [
    "We perform an incomplete Cholesky factorization as follows. Let $${i_1,\\ldots,i_p}$$ represent the indexes of the $p$ largest diagonal values of the matrix $Q$.\n",
    "\n",
    "Then on each iteration $k = 1,\\ldots,p$, we perform the following updates:\n",
    "$$ H[i_k, k] \\leftarrow \\sqrt{v(i_k)} $$\n",
    "Inner loop: for all $j_k=1,\\ldots,n$ and $j_k \\neq i_k$,\n",
    "$$ H[j_k, k] \\leftarrow \\frac{(Q[j_k, k] - \\sum_{j=1}^{k-1} H[j_k, j] * H[i_k, j])}{H[i_k, k]} $$\n",
    "$$ $$\n",
    "$$ v[j_k] \\leftarrow v[j_k] - H[j_k, k]^2 $$"
   ]
  },
  {
   "cell_type": "code",
   "execution_count": 42,
   "metadata": {},
   "outputs": [],
   "source": [
    "def calc_ICF(Q, p):\n",
    "    \n",
    "    n = Q.shape[0]\n",
    "    H = np.zeros((n,p))\n",
    "    \n",
    "    v = np.diag(Q).copy()\n",
    "    i_k_dict = dict(zip(v, range(n)))\n",
    "    \n",
    "    # take p largest diag values\n",
    "    v_sort = -np.sort(-v)[ : p]\n",
    "    I_k = [i_k_dict[v_k] for v_k in v_sort]\n",
    "    \n",
    "    for k in range(p):\n",
    "\n",
    "        v_k = v_sort[k]\n",
    "\n",
    "        # i_k is index of kth largest diag value\n",
    "        i_k = i_k_dict[v_k]\n",
    "\n",
    "        H[i_k, k] = np.sqrt(v_k)\n",
    "\n",
    "        for j_k in range(n):\n",
    "            if j_k in I_k:\n",
    "                continue\n",
    "            \n",
    "            this_sum = 0\n",
    "            # only need consider cols with index less than k, other cols are 0\n",
    "            for l in range(k-1):\n",
    "                this_sum += H[j_k, l] * H[i_k, l]\n",
    "            \n",
    "            H[j_k, k] = (Q[j_k, k] - this_sum) / H[i_k, k]\n",
    "            \n",
    "            v[j_k] -= H[j_k, k] ** 2\n",
    "\n",
    "    error_matrix = Q - H.dot(H.T)\n",
    "    error = np.diag(error_matrix).sum()\n",
    "    \n",
    "    return H"
   ]
  },
  {
   "cell_type": "code",
   "execution_count": 43,
   "metadata": {},
   "outputs": [],
   "source": [
    "# for reference, this is a complete Cholesky factorization\n",
    "def calc_CF(Q, p):\n",
    "    \n",
    "    n = Q.shape[0]\n",
    "    H = np.zeros((n, n))\n",
    "    \n",
    "    for i in range(n):\n",
    "        \n",
    "        sum_ik_sq = 0\n",
    "        for k in range(i):\n",
    "            sum_ik_sq += H[i, k] ** 2\n",
    "        H[i, i] = np.sqrt( Q[i, i] - sum_ik_sq )\n",
    "        \n",
    "        for j in range(i+1, n):\n",
    "            sum_ik_jk = 0\n",
    "            for k in range(i):\n",
    "                sum_ik_jk += H[i, k] * H[j, k]\n",
    "            H[j, i] = 1 / H[i, i] * ( Q[j, i] - sum_ik_jk )\n",
    "    \n",
    "    error_matrix = Q - H.dot(H.T)\n",
    "    error = np.diag(error_matrix).sum()\n",
    "    \n",
    "    assert error <= 1e-8\n",
    "    \n",
    "    return H"
   ]
  },
  {
   "cell_type": "markdown",
   "metadata": {},
   "source": [
    "## 3b) approximate gradient using ICF"
   ]
  },
  {
   "cell_type": "markdown",
   "metadata": {},
   "source": [
    "In particular, in the gradient update step we approximate\n",
    "$$ \\Sigma^{-1}z \\approx D^{-1}z - D^{-1}H(I + H^TD^{-1}H)^{-1}H^TD^{-1}z $$\n",
    "$$ \\Sigma^{-1}y \\approx D^{-1}y - D^{-1}H(I + H^TD^{-1}H)^{-1}H^TD^{-1}y $$"
   ]
  },
  {
   "cell_type": "code",
   "execution_count": 34,
   "metadata": {},
   "outputs": [],
   "source": [
    "def calc_gradient_lowrank(n, p, Q, H, C, alpha, y, lambduh, ksi, nu, helper_vector, t):\n",
    "    \n",
    "    dual_residual = calc_dual_residual(n=n, Q=Q, alpha=alpha, y=y, lambduh=lambduh, ksi=ksi, nu=nu)\n",
    "    helper_matrix, central_residual = calc_central_residual(n=n, lambduh=lambduh, ksi=ksi,\n",
    "                                                            helper_vector=helper_vector, t=t)\n",
    "    primal_residual = alpha.dot(y).reshape(1,)\n",
    "    residuals = np.concatenate((dual_residual, central_residual, primal_residual))\n",
    "    \n",
    "    assert dual_residual.shape == (n,)\n",
    "    assert central_residual.shape == (2*n,)\n",
    "    assert residuals.shape == (3*n + 1,)\n",
    "    \n",
    "    D = np.diag( lambduh / alpha + ksi / (C*np.ones((n,)) - alpha) )\n",
    "    D_inv = np.diag( 1 / ( lambduh / alpha + ksi / (C*np.ones((n,)) - alpha) ) )\n",
    "    G = np.linalg.inv(np.eye(p) + H.T.dot(D_inv).dot(H))\n",
    "    \n",
    "    z = -Q.dot(alpha) + np.ones((n,)) - nu*y + (1 / alpha - 1 / (C*np.ones((n,)) - alpha) ) / t\n",
    "    \n",
    "    Sigma_inv_z = D_inv.dot(z.reshape((n,1))) - D_inv.dot(H).dot(G).dot(H.T).dot(D_inv).dot(z.reshape((n,1)))\n",
    "    Sigma_inv_y = D_inv.dot(y.reshape((n,1))) - D_inv.dot(H).dot(G).dot(H.T).dot(D_inv).dot(y.reshape((n,1)))\n",
    "    \n",
    "    grad_nu = (y.T.dot(Sigma_inv_z) + y.T.dot(alpha)) / y.T.dot(Sigma_inv_y)\n",
    "    \n",
    "    grad_alpha = (Sigma_inv_z - grad_nu * Sigma_inv_y).reshape((n,))\n",
    "    \n",
    "    grad_lambduh = -lambduh + 1 / (t * alpha) - np.diag(lambduh / alpha).dot(grad_alpha)\n",
    "    \n",
    "    grad_ksi = -ksi + 1 / (t * (C*np.ones((n,)) - alpha) ) + \\\n",
    "    np.diag(ksi / (C*np.ones((n,)) - alpha) ).dot(grad_alpha)\n",
    "    \n",
    "    gradient = np.concatenate((grad_alpha, grad_lambduh, grad_ksi, grad_nu))\n",
    "    assert gradient.shape == (3*n +1, )\n",
    "    \n",
    "    return gradient, residuals"
   ]
  },
  {
   "cell_type": "markdown",
   "metadata": {},
   "source": [
    "Observe that when we use an approximation to the matrix $Q$, we require a larger number of iterations for the SVM algorithm to converge. Moreover, the feasibility gap never quite goes to 0, because we no longer have the exact matrix $Q$ to work with.\n",
    "\n",
    "Nonetheless, it is remarkable that with $p$ as small as $O(\\sqrt{n})$, we essentially get the same solution with only negligible error."
   ]
  },
  {
   "cell_type": "code",
   "execution_count": 92,
   "metadata": {},
   "outputs": [
    {
     "name": "stdout",
     "output_type": "stream",
     "text": [
      "Iteration: 0, Objective: 0.801669, Feasibility gap: 7.687723, Duality gap: 2.090352, Step size: 0.087095\n",
      "Iteration: 1, Objective: 0.232240, Feasibility gap: 6.429433, Duality gap: 1.777894, Step size: 0.146437\n",
      "Iteration: 2, Objective: -0.106028, Feasibility gap: 5.179196, Duality gap: 1.377037, Step size: 0.242869\n",
      "Iteration: 3, Objective: -0.241443, Feasibility gap: 4.601889, Duality gap: 1.158079, Step size: 0.173796\n",
      "Iteration: 4, Objective: -0.271286, Feasibility gap: 4.471997, Duality gap: 1.108145, Step size: 0.047704\n",
      "Iteration: 5, Objective: -0.328618, Feasibility gap: 4.198243, Duality gap: 1.004586, Step size: 0.103219\n",
      "Iteration: 6, Objective: -0.385837, Feasibility gap: 3.901239, Duality gap: 0.894002, Step size: 0.121754\n",
      "Iteration: 7, Objective: -0.438027, Feasibility gap: 3.626738, Duality gap: 0.792783, Step size: 0.124965\n",
      "Iteration: 8, Objective: -0.484879, Feasibility gap: 3.381854, Duality gap: 0.703521, Step size: 0.124027\n",
      "Iteration: 9, Objective: -0.571451, Feasibility gap: 2.912916, Duality gap: 0.536641, Step size: 0.258476\n",
      "Iteration: 10, Objective: -0.603115, Feasibility gap: 2.742923, Duality gap: 0.478274, Step size: 0.120004\n",
      "Iteration: 11, Objective: -0.632869, Feasibility gap: 2.569547, Duality gap: 0.419339, Step size: 0.136661\n",
      "Iteration: 12, Objective: -0.656185, Feasibility gap: 2.420102, Duality gap: 0.368128, Step size: 0.136306\n",
      "Iteration: 13, Objective: -0.690652, Feasibility gap: 2.191611, Duality gap: 0.289272, Step size: 0.240363\n",
      "Iteration: 14, Objective: -0.716118, Feasibility gap: 2.022314, Duality gap: 0.234697, Step size: 0.210453\n",
      "Iteration: 15, Objective: -0.729196, Feasibility gap: 1.932836, Duality gap: 0.207631, Step size: 0.128445\n",
      "Iteration: 16, Objective: -0.750402, Feasibility gap: 1.781765, Duality gap: 0.163336, Step size: 0.238348\n",
      "Iteration: 17, Objective: -0.766620, Feasibility gap: 1.656726, Duality gap: 0.128936, Step size: 0.235765\n",
      "Iteration: 18, Objective: -0.779341, Feasibility gap: 1.541207, Duality gap: 0.102612, Step size: 0.228238\n",
      "Iteration: 19, Objective: -0.788208, Feasibility gap: 1.445797, Duality gap: 0.085371, Step size: 0.187280\n",
      "Iteration: 20, Objective: -0.796017, Feasibility gap: 1.351043, Duality gap: 0.070950, Step size: 0.188106\n",
      "Iteration: 21, Objective: -0.800216, Feasibility gap: 1.295450, Duality gap: 0.063283, Step size: 0.120259\n",
      "Iteration: 22, Objective: -0.804143, Feasibility gap: 1.241792, Duality gap: 0.055850, Step size: 0.130884\n",
      "Iteration: 23, Objective: -0.810809, Feasibility gap: 1.139722, Duality gap: 0.043204, Step size: 0.252974\n",
      "Iteration: 24, Objective: -0.820155, Feasibility gap: 0.948460, Duality gap: 0.026494, Step size: 0.432029\n",
      "Iteration: 25, Objective: -0.824003, Feasibility gap: 0.836933, Duality gap: 0.020427, Step size: 0.254439\n",
      "Iteration: 26, Objective: -0.827212, Feasibility gap: 0.729114, Duality gap: 0.015326, Step size: 0.277691\n",
      "Iteration: 27, Objective: -0.831331, Feasibility gap: 0.570349, Duality gap: 0.008630, Step size: 0.486870\n",
      "Iteration: 28, Objective: -0.835146, Feasibility gap: 0.313695, Duality gap: 0.002807, Step size: 0.753226\n",
      "Iteration: 29, Objective: -0.835911, Feasibility gap: 0.236141, Duality gap: 0.001589, Step size: 0.479307\n",
      "Iteration: 30, Objective: -0.836357, Feasibility gap: 0.199316, Duality gap: 0.000881, Step size: 0.495000\n",
      "Iteration: 31, Objective: -0.836602, Feasibility gap: 0.198161, Duality gap: 0.000445, Step size: 0.548890\n",
      "Iteration: 32, Objective: -0.836662, Feasibility gap: 0.189046, Duality gap: 0.000374, Step size: 0.174600\n",
      "Iteration: 33, Objective: -0.836708, Feasibility gap: 0.157770, Duality gap: 0.000299, Step size: 0.225095\n",
      "Iteration: 34, Objective: -0.836737, Feasibility gap: 0.150318, Duality gap: 0.000261, Step size: 0.141054\n",
      "Iteration: 35, Objective: -0.836803, Feasibility gap: 0.133310, Duality gap: 0.000145, Step size: 0.495000\n",
      "Iteration: 36, Objective: -0.836819, Feasibility gap: 0.125622, Duality gap: 0.000124, Step size: 0.154837\n",
      "Iteration: 37, Objective: -0.836835, Feasibility gap: 0.106200, Duality gap: 0.000097, Step size: 0.245766\n",
      "Iteration: 38, Objective: -0.836841, Feasibility gap: 0.101507, Duality gap: 0.000088, Step size: 0.105750\n",
      "Iteration: 39, Objective: -0.836886, Feasibility gap: 0.071363, Duality gap: 0.000010, Step size: 0.990000\n",
      "Iteration: 40, Objective: -0.836887, Feasibility gap: 0.057182, Duality gap: 0.000008, Step size: 0.210069\n",
      "Iteration: 41, Objective: -0.836888, Feasibility gap: 0.050257, Duality gap: 0.000007, Step size: 0.122005\n",
      "Iteration: 42, Objective: -0.836891, Feasibility gap: 0.042548, Duality gap: 0.000001, Step size: 0.990000\n",
      "Iteration: 43, Objective: -0.836891, Feasibility gap: 0.019296, Duality gap: 0.000001, Step size: 0.123750\n",
      "Iteration: 44, Objective: -0.836891, Feasibility gap: 0.016576, Duality gap: 0.000001, Step size: 0.247500\n",
      "Iteration: 45, Objective: -0.836891, Feasibility gap: 0.013772, Duality gap: 0.000000, Step size: 0.123750\n",
      "Iteration: 46, Objective: -0.836891, Feasibility gap: 0.010697, Duality gap: 0.000000, Step size: 0.495000\n",
      "Iteration: 47, Objective: -0.836891, Feasibility gap: 0.009464, Duality gap: 0.000000, Step size: 0.123750\n",
      "Iteration: 48, Objective: -0.836891, Feasibility gap: 0.008648, Duality gap: 0.000000, Step size: 0.990000\n",
      "Iteration: 49, Objective: -0.836891, Feasibility gap: 0.003401, Duality gap: 0.000000, Step size: 0.123750\n",
      "Iteration: 50, Objective: -0.836891, Feasibility gap: 0.003139, Duality gap: 0.000000, Step size: 0.247500\n",
      "Iteration: 51, Objective: -0.836891, Feasibility gap: 0.002154, Duality gap: 0.000000, Step size: 0.123750\n",
      "Iteration: 52, Objective: -0.836891, Feasibility gap: 0.001947, Duality gap: 0.000000, Step size: 0.495000\n",
      "Iteration: 53, Objective: -0.836891, Feasibility gap: 0.001479, Duality gap: 0.000000, Step size: 0.123750\n",
      "Iteration: 54, Objective: -0.836891, Feasibility gap: 0.001230, Duality gap: 0.000000, Step size: 0.495000\n",
      "Iteration: 55, Objective: -0.836891, Feasibility gap: 0.001022, Duality gap: 0.000000, Step size: 0.123750\n",
      "Iteration: 56, Objective: -0.836891, Feasibility gap: 0.000799, Duality gap: 0.000000, Step size: 0.495000\n",
      "Iteration: 57, Objective: -0.836891, Feasibility gap: 0.000716, Duality gap: 0.000000, Step size: 0.123750\n",
      "Iteration: 58, Objective: -0.836891, Feasibility gap: 0.000656, Duality gap: 0.000000, Step size: 0.990000\n",
      "Iteration: 59, Objective: -0.836891, Feasibility gap: 0.000342, Duality gap: 0.000000, Step size: 0.123750\n",
      "Iteration: 60, Objective: -0.836891, Feasibility gap: 0.000231, Duality gap: 0.000000, Step size: 0.123750\n",
      "Iteration: 61, Objective: -0.836891, Feasibility gap: 0.000212, Duality gap: 0.000000, Step size: 0.123750\n",
      "Iteration: 62, Objective: -0.836891, Feasibility gap: 0.000088, Duality gap: 0.000000, Step size: 0.990000\n"
     ]
    }
   ],
   "source": [
    "x, y = read_data('gaussiandata.pickle')\n",
    "n = x.shape[0]\n",
    "p = int(np.floor(np.sqrt(n)))\n",
    "alpha_lowrank, dual_obj_lowrank = run_SVM_PDIPM(x, y, kernel=linear_kernel, C=0.05, mu=10, a=0.01,\n",
    "                                                b=0.5, verbose=True, gradient_method=\"lowrank\", p=p,\n",
    "                                                feasible_tol=1e-4, dual_gap_tol=1e-4)"
   ]
  },
  {
   "cell_type": "code",
   "execution_count": 36,
   "metadata": {},
   "outputs": [
    {
     "data": {
      "image/png": "[encoded data removed]",
      "text/plain": [
       "<Figure size 432x288 with 1 Axes>"
      ]
     },
     "metadata": {
      "needs_background": "light"
     },
     "output_type": "display_data"
    }
   ],
   "source": [
    "plot_data_with_SVM_separator(x, y, alpha_lowrank.reshape((len(alpha_lowrank),1)))"
   ]
  },
  {
   "cell_type": "code",
   "execution_count": 37,
   "metadata": {},
   "outputs": [
    {
     "data": {
      "image/png": "[encoded data removed]",
      "text/plain": [
       "<Figure size 432x288 with 1 Axes>"
      ]
     },
     "metadata": {
      "needs_background": "light"
     },
     "output_type": "display_data"
    }
   ],
   "source": [
    "plot_dual_objective(dual_obj_lowrank)"
   ]
  },
  {
   "cell_type": "markdown",
   "metadata": {},
   "source": [
    "# (4) parallel approximate SVM with PDIPM ($O(np^2 / m)$)"
   ]
  },
  {
   "cell_type": "code",
   "execution_count": 38,
   "metadata": {},
   "outputs": [],
   "source": [
    "import findspark\n",
    "findspark.init()"
   ]
  },
  {
   "cell_type": "code",
   "execution_count": 71,
   "metadata": {},
   "outputs": [],
   "source": [
    "from pyspark.sql import SparkSession"
   ]
  },
  {
   "cell_type": "code",
   "execution_count": 40,
   "metadata": {},
   "outputs": [],
   "source": [
    "spark = SparkSession\\\n",
    "    .builder\\\n",
    "    .appName(\"SVM_PySpark\")\\\n",
    "    .getOrCreate()"
   ]
  },
  {
   "cell_type": "code",
   "execution_count": 72,
   "metadata": {},
   "outputs": [],
   "source": [
    "sc = spark.sparkContext"
   ]
  },
  {
   "cell_type": "markdown",
   "metadata": {},
   "source": [
    "For the finishing touch, we can parallelize the sum over $O(p)$ columns in the innermost loop to be distributed over $m$ machines, bringing our total runtime down from $O(np^2)$ to $O(np^2/m)$.\n",
    "\n",
    "Note: to reduce the runtime of the entire algorithm to $O(np^2/m)$, we would need to store the matrix $H$ on $m$ different machines, and broadcast computations over those machines. We do not show that full implementation here, but demonstrate how to parallelize the ICF calculation to give a sense for the kinds of parallelization are needed."
   ]
  },
  {
   "cell_type": "code",
   "execution_count": 90,
   "metadata": {},
   "outputs": [],
   "source": [
    "def calc_ICF_parallel(Q, p):\n",
    "    \n",
    "    n = Q.shape[0]\n",
    "    H = np.zeros((n,p))\n",
    "    \n",
    "    v = np.diag(Q).copy()\n",
    "    i_k_dict = dict(zip(v, range(n)))\n",
    "    \n",
    "    # take p largest diag values\n",
    "    v_sort = -np.sort(-v)[ : p]\n",
    "    I_k = [i_k_dict[v_k] for v_k in v_sort]\n",
    "    \n",
    "    for k in range(p):\n",
    "\n",
    "        v_k = v_sort[k]\n",
    "\n",
    "        # i_k is index of kth largest diag value\n",
    "        i_k = i_k_dict[v_k]\n",
    "\n",
    "        H[i_k, k] = np.sqrt(v_k)\n",
    "\n",
    "        for j_k in range(n):\n",
    "            if j_k in I_k:\n",
    "                continue\n",
    "            \n",
    "            # only need consider cols with index less than k, other cols are 0\n",
    "            # we can use PySpark here\n",
    "            H_j_k = sc.parallelize(H[j_k, : k-1])\n",
    "            H_i_k = sc.parallelize(H[i_k, : k-1])\n",
    "            this_sum = H_j_k.zip(H_i_k).map(lambda ij: ij[0] * ij[1]).sum()\n",
    "            \n",
    "            H[j_k, k] = (Q[j_k, k] - this_sum) / H[i_k, k]\n",
    "            \n",
    "            v[j_k] -= H[j_k, k] ** 2\n",
    "\n",
    "    error_matrix = Q - H.dot(H.T)\n",
    "    error = np.diag(error_matrix).sum()\n",
    "    \n",
    "    return H"
   ]
  },
  {
   "cell_type": "markdown",
   "metadata": {},
   "source": [
    "# 5) Experiments"
   ]
  },
  {
   "cell_type": "markdown",
   "metadata": {},
   "source": [
    "As expected, our implementations actually get slower and slower as we progress.\n",
    "\n",
    "Part 1 (cvxopt) is the fastest, as it should be because it was implemented in C, and probably optimized for speed\n",
    "\n",
    "In Part 2, PDIPM-separate is faster than PDIPM-together, as expected, since we are inverting $n \\times n$ matrices several times which is faster than inverting one giant $(3n+1) \\times (3n+1)$ matrix.\n",
    "\n",
    "Part 3 (PDIPM-lowrank) is slower than Part 2, likely because the extra gymnastics to avoid inverting $Q$ in Python are slower than simply using np.linalg.inv, which again was written in C and optimized for speed.\n",
    "\n",
    "Finally, Part 4 (PDIPM-parallel) is abysmally slow, with even just 1 iteration taking an hour, while 100 iterations of the others take from about a second to about a minute. This is because there is massive overhead in creating Spark variables in the way we did, and the benefits from parallelization are probably only noticeable for much larger values of $n$, and if we ran PDIPM-parallel on multiple machines.\n",
    "\n",
    "As mentioned, the authors of the paper I cited have implemented this method in C, and their experiments show significant improvements in speed over non-parallel SVM. The goal of this my project was not to try to replicate their speed improvements, but to explore this problem of how exactly one might make SVM faster, which entails understanding how exactly one might implement SVM completely from scratch."
   ]
  },
  {
   "cell_type": "code",
   "execution_count": 87,
   "metadata": {},
   "outputs": [
    {
     "name": "stdout",
     "output_type": "stream",
     "text": [
      "cvxopt SVM: 1.1289623090124223\n",
      "PDIPM together SVM: 43.91687892700429\n",
      "PDIPM separate SVM: 8.75687577901408\n",
      "PDIPM lowrank SVM: 83.45780954399379\n"
     ]
    }
   ],
   "source": [
    "import timeit\n",
    "\n",
    "n = 100\n",
    "\n",
    "x, y = read_data('gaussiandata.pickle')\n",
    "\n",
    "def method1():\n",
    "    solvers.options['show_progress'] = False\n",
    "    run_SVM_cvxopt(x, y, kernel=linear_kernel, soft=True, C=0.05)\n",
    "    return\n",
    "\n",
    "def method2():\n",
    "    run_SVM_PDIPM(x, y, kernel=linear_kernel, C=0.05, mu=10, a=0.01,\n",
    "                  b=0.5, verbose=False, gradient_method=\"together\")\n",
    "    return\n",
    "\n",
    "def method3():\n",
    "    run_SVM_PDIPM(x, y, kernel=linear_kernel, C=0.05, mu=10, a=0.01,\n",
    "                  b=0.5, verbose=False, gradient_method=\"separate\")\n",
    "    return\n",
    "\n",
    "def method4():\n",
    "    run_SVM_PDIPM(x, y, kernel=linear_kernel, C=0.05, mu=10, a=0.01,\n",
    "                  b=0.5, verbose=False, gradient_method=\"lowrank\",\n",
    "                  p=p, feasible_tol=1e-4, dual_gap_tol=1e-4)\n",
    "    return\n",
    "\n",
    "def method5():\n",
    "    run_SVM_PDIPM(x, y, kernel=linear_kernel, C=0.05, mu=10, a=0.01,\n",
    "                  b=0.5, verbose=False, gradient_method=\"parallel\",\n",
    "                  p=p, feasible_tol=1e-4, dual_gap_tol=1e-4)\n",
    "    return\n",
    "\n",
    "\n",
    "t1 = timeit.timeit(method1, number = n)\n",
    "print('cvxopt SVM:', round(t1, 2))\n",
    "t2 = timeit.timeit(method2, number = n)\n",
    "print('PDIPM together SVM:', round(t2, 2))\n",
    "t3 = timeit.timeit(method3, number = n)\n",
    "print('PDIPM separate SVM:', round(t3, 2))\n",
    "t4 = timeit.timeit(method4, number = n)\n",
    "print('PDIPM lowrank SVM:', round(t4, 2))"
   ]
  },
  {
   "cell_type": "code",
   "execution_count": 91,
   "metadata": {},
   "outputs": [
    {
     "name": "stdout",
     "output_type": "stream",
     "text": [
      "PDIPM parallel SVM: 3915.2306435469945\n"
     ]
    }
   ],
   "source": [
    "t5 = timeit.timeit(method5, number = 1)\n",
    "print('PDIPM parallel SVM:', t5)"
   ]
  }
 ],
 "metadata": {
  "kernelspec": {
   "display_name": "Python 3",
   "language": "python",
   "name": "python3"
  },
  "language_info": {
   "codemirror_mode": {
    "name": "ipython",
    "version": 3
   },
   "file_extension": ".py",
   "mimetype": "text/x-python",
   "name": "python",
   "nbconvert_exporter": "python",
   "pygments_lexer": "ipython3",
   "version": "3.5.2"
  }
 },
 "nbformat": 4,
 "nbformat_minor": 2
}
